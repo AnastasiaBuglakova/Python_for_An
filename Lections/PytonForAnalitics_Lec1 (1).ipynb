{
 "cells": [
  {
   "cell_type": "markdown",
   "id": "07e28e14",
   "metadata": {},
   "source": [
    "## Heading"
   ]
  },
  {
   "cell_type": "code",
   "execution_count": null,
   "id": "4187fbe3",
   "metadata": {},
   "outputs": [],
   "source": [
    "# Diplom_GB_Buglakova \n",
    "# Веб-приложение сервиса подбора заведения для посещения по музыкальной тематике\n",
    "## 1 Описание дипломной работы"
   ]
  },
  {
   "cell_type": "code",
   "execution_count": null,
   "id": "ad8cc4dc",
   "metadata": {},
   "outputs": [],
   "source": []
  },
  {
   "cell_type": "code",
   "execution_count": 18,
   "id": "b21ae018",
   "metadata": {},
   "outputs": [
    {
     "ename": "SyntaxError",
     "evalue": "invalid syntax (1359804923.py, line 4)",
     "output_type": "error",
     "traceback": [
      "\u001b[0;36m  File \u001b[0;32m\"/var/folders/4s/6y4465_13xvd_qpkss91wf2h0000gn/T/ipykernel_7055/1359804923.py\"\u001b[0;36m, line \u001b[0;32m4\u001b[0m\n\u001b[0;31m    Веб-приложение сервиса подбора заведения для посещения по музыкальной тематике позволит (рабочее название \"Где в пятницу\"):\u001b[0m\n\u001b[0m                   ^\u001b[0m\n\u001b[0;31mSyntaxError\u001b[0m\u001b[0;31m:\u001b[0m invalid syntax\n"
     ]
    }
   ],
   "source": [
    "Веб-приложение сервиса подбора заведения для посещения по музыкальной тематике позволит (рабочее название \"Где в пятницу\"):\n",
    "* выбрать заведение в своем городе с учетом музыкальных предпочтений по музыкальному направлению, формату воспроизведения музыки и наличию танцпола,\n",
    "* определить что в необходимую дату и где будет представлено в заведениях города."
   ]
  },
  {
   "cell_type": "code",
   "execution_count": 19,
   "id": "3da76eb8",
   "metadata": {},
   "outputs": [
    {
     "ename": "ZeroDivisionError",
     "evalue": "division by zero",
     "output_type": "error",
     "traceback": [
      "\u001b[0;31m---------------------------------------------------------------------------\u001b[0m",
      "\u001b[0;31mZeroDivisionError\u001b[0m                         Traceback (most recent call last)",
      "\u001b[0;32m/var/folders/4s/6y4465_13xvd_qpkss91wf2h0000gn/T/ipykernel_7055/1938721848.py\u001b[0m in \u001b[0;36m<module>\u001b[0;34m\u001b[0m\n\u001b[1;32m      1\u001b[0m \u001b[0ma\u001b[0m\u001b[0;34m=\u001b[0m\u001b[0;36m2\u001b[0m\u001b[0;34m\u001b[0m\u001b[0;34m\u001b[0m\u001b[0m\n\u001b[0;32m----> 2\u001b[0;31m \u001b[0;36m2\u001b[0m\u001b[0;34m/\u001b[0m\u001b[0;36m0\u001b[0m\u001b[0;34m\u001b[0m\u001b[0;34m\u001b[0m\u001b[0m\n\u001b[0m\u001b[1;32m      3\u001b[0m \u001b[0mb\u001b[0m\u001b[0;34m=\u001b[0m\u001b[0;36m3\u001b[0m\u001b[0;34m\u001b[0m\u001b[0;34m\u001b[0m\u001b[0m\n\u001b[1;32m      4\u001b[0m \u001b[0ma\u001b[0m \u001b[0;34m+\u001b[0m \u001b[0mb\u001b[0m\u001b[0;34m\u001b[0m\u001b[0;34m\u001b[0m\u001b[0m\n",
      "\u001b[0;31mZeroDivisionError\u001b[0m: division by zero"
     ]
    }
   ],
   "source": [
    "a=2\n",
    "2/0\n",
    "b=3 \n",
    "a + b"
   ]
  },
  {
   "cell_type": "code",
   "execution_count": null,
   "id": "d9f78775",
   "metadata": {},
   "outputs": [],
   "source": [
    "?pow"
   ]
  },
  {
   "cell_type": "markdown",
   "id": "557c6d81",
   "metadata": {},
   "source": [
    "## Таблицы"
   ]
  },
  {
   "cell_type": "markdown",
   "id": "846dba7d",
   "metadata": {},
   "source": [
    "<table>\n",
    "    <tr>\n",
    "        <td>first column</td>\n",
    "        <td>second column</td>\n",
    "    </tr>\n",
    "    <tr>\n",
    "        <td>1 column</td>\n",
    "        <td>2 column</td>\n",
    "    </tr>\n",
    "</table>"
   ]
  },
  {
   "cell_type": "markdown",
   "id": "a923f85a",
   "metadata": {},
   "source": [
    "## Словари"
   ]
  },
  {
   "cell_type": "code",
   "execution_count": 2,
   "id": "0c800735",
   "metadata": {},
   "outputs": [
    {
     "data": {
      "text/plain": [
       "{'name': 'John', 'surname': 'Doe', 'age': 32}"
      ]
     },
     "execution_count": 2,
     "metadata": {},
     "output_type": "execute_result"
    }
   ],
   "source": [
    "clint_data = {'name':'John',\n",
    "             'surname': 'Doe',\n",
    "             'age': 32}\n",
    "clint_data"
   ]
  },
  {
   "cell_type": "code",
   "execution_count": 3,
   "id": "588bce8c",
   "metadata": {},
   "outputs": [
    {
     "data": {
      "text/plain": [
       "'John'"
      ]
     },
     "execution_count": 3,
     "metadata": {},
     "output_type": "execute_result"
    }
   ],
   "source": [
    "clint_data ['name']"
   ]
  },
  {
   "cell_type": "code",
   "execution_count": 6,
   "id": "76192654",
   "metadata": {},
   "outputs": [],
   "source": [
    "clint_data.get('key')"
   ]
  },
  {
   "cell_type": "code",
   "execution_count": 9,
   "id": "c1d36f6d",
   "metadata": {},
   "outputs": [
    {
     "data": {
      "text/plain": [
       "dict_keys(['name', 'surname', 'age'])"
      ]
     },
     "execution_count": 9,
     "metadata": {},
     "output_type": "execute_result"
    }
   ],
   "source": [
    "clint_data.keys()"
   ]
  },
  {
   "cell_type": "code",
   "execution_count": 11,
   "id": "7e08a864",
   "metadata": {},
   "outputs": [
    {
     "data": {
      "text/plain": [
       "dict_values(['John', 'Doe', 32])"
      ]
     },
     "execution_count": 11,
     "metadata": {},
     "output_type": "execute_result"
    }
   ],
   "source": [
    "clint_data.values()"
   ]
  },
  {
   "cell_type": "code",
   "execution_count": 12,
   "id": "563107a2",
   "metadata": {},
   "outputs": [
    {
     "data": {
      "text/plain": [
       "dict_items([('name', 'John'), ('surname', 'Doe'), ('age', 32)])"
      ]
     },
     "execution_count": 12,
     "metadata": {},
     "output_type": "execute_result"
    }
   ],
   "source": [
    "clint_data.items()\n",
    "# выдает список кортежей"
   ]
  },
  {
   "cell_type": "code",
   "execution_count": 15,
   "id": "4ee58f86",
   "metadata": {},
   "outputs": [
    {
     "name": "stdout",
     "output_type": "stream",
     "text": [
      "name: John\n",
      "surname: Doe\n",
      "age: 32\n"
     ]
    }
   ],
   "source": [
    "for k, v in clint_data.items():\n",
    "    print(f'{k}: {v}')"
   ]
  },
  {
   "cell_type": "code",
   "execution_count": 18,
   "id": "6f887071",
   "metadata": {},
   "outputs": [
    {
     "data": {
      "text/plain": [
       "{'name': 'John', 'surname': 'Doe', 'age': 32, 'height': 186}"
      ]
     },
     "execution_count": 18,
     "metadata": {},
     "output_type": "execute_result"
    }
   ],
   "source": [
    "clint_data['height'] = 186\n",
    "clint_data"
   ]
  },
  {
   "cell_type": "code",
   "execution_count": 19,
   "id": "1974179e",
   "metadata": {},
   "outputs": [
    {
     "data": {
      "text/plain": [
       "{'name': 'John', 'surname': 'Doe', 'age': 86, 'height': 186}"
      ]
     },
     "execution_count": 19,
     "metadata": {},
     "output_type": "execute_result"
    }
   ],
   "source": [
    "clint_data['age'] = 86\n",
    "clint_data\n",
    "# опасный метод, значение по такому ключу уже было"
   ]
  },
  {
   "cell_type": "code",
   "execution_count": 23,
   "id": "6f88a628",
   "metadata": {},
   "outputs": [
    {
     "data": {
      "text/plain": [
       "{'name': 'John', 'surname': 'Doe', 'age': 86, 'height': 186}"
      ]
     },
     "execution_count": 23,
     "metadata": {},
     "output_type": "execute_result"
    }
   ],
   "source": [
    "clint_data.setdefault('age', 6)\n",
    "clint_data\n",
    "# безопасный метод"
   ]
  },
  {
   "cell_type": "code",
   "execution_count": 43,
   "id": "1fc191a6",
   "metadata": {},
   "outputs": [
    {
     "data": {
      "text/plain": [
       "{'name': 'John', 'surname': 'Doe', 'age': 6, 'height': 186, 'sex': 'm'}"
      ]
     },
     "execution_count": 43,
     "metadata": {},
     "output_type": "execute_result"
    }
   ],
   "source": [
    "clint_data.update({\n",
    "        'age': 6,\n",
    "        'sex': 'm'\n",
    "})\n",
    "clint_data\n",
    "#опасный метод, значение по такому ключу уже было перезапись"
   ]
  },
  {
   "cell_type": "code",
   "execution_count": 37,
   "id": "09c7f106",
   "metadata": {},
   "outputs": [
    {
     "name": "stdout",
     "output_type": "stream",
     "text": [
      "Object `update` not found.\n"
     ]
    }
   ],
   "source": [
    "?update"
   ]
  },
  {
   "cell_type": "code",
   "execution_count": 44,
   "id": "a8d0b44e",
   "metadata": {},
   "outputs": [
    {
     "name": "stdout",
     "output_type": "stream",
     "text": [
      "Help on built-in function update:\n",
      "\n",
      "update(...) method of builtins.dict instance\n",
      "    D.update([E, ]**F) -> None.  Update D from dict/iterable E and F.\n",
      "    If E is present and has a .keys() method, then does:  for k in E: D[k] = E[k]\n",
      "    If E is present and lacks a .keys() method, then does:  for k, v in E: D[k] = v\n",
      "    In either case, this is followed by: for k in F:  D[k] = F[k]\n",
      "\n"
     ]
    }
   ],
   "source": [
    "help(clint_data.update)"
   ]
  },
  {
   "cell_type": "markdown",
   "id": "fdafefd6",
   "metadata": {},
   "source": [
    "### вложенный словарь"
   ]
  },
  {
   "cell_type": "code",
   "execution_count": 51,
   "id": "dc379881",
   "metadata": {},
   "outputs": [
    {
     "data": {
      "text/plain": [
       "{'name': 'John',\n",
       " 'surname': 'Doe',\n",
       " 'age': 6,\n",
       " 'height': 186,\n",
       " 'sex': 'm',\n",
       " 'body': {'weight': 80, 'height': 188}}"
      ]
     },
     "execution_count": 51,
     "metadata": {},
     "output_type": "execute_result"
    }
   ],
   "source": [
    "clint_data.update({'name': 'John', 'surname': 'Doe', 'age': 6, 'height': 186, 'sex': 'm', \n",
    "                  'body': {\n",
    "                  'weight': 80,\n",
    "                  'height':188}})\n",
    "clint_data"
   ]
  },
  {
   "cell_type": "code",
   "execution_count": 52,
   "id": "ec42a72d",
   "metadata": {},
   "outputs": [
    {
     "data": {
      "text/plain": [
       "80"
      ]
     },
     "execution_count": 52,
     "metadata": {},
     "output_type": "execute_result"
    }
   ],
   "source": [
    "clint_data['body']['weight']"
   ]
  },
  {
   "cell_type": "markdown",
   "id": "521937a5",
   "metadata": {},
   "source": [
    "### Модуль RANDOM"
   ]
  },
  {
   "cell_type": "code",
   "execution_count": 65,
   "id": "8a4db916",
   "metadata": {},
   "outputs": [
    {
     "data": {
      "text/plain": [
       "2"
      ]
     },
     "execution_count": 65,
     "metadata": {},
     "output_type": "execute_result"
    }
   ],
   "source": [
    "import random\n",
    "random.randint(0,10)"
   ]
  },
  {
   "cell_type": "code",
   "execution_count": 69,
   "id": "10b4592a",
   "metadata": {},
   "outputs": [
    {
     "data": {
      "text/plain": [
       "7"
      ]
     },
     "execution_count": 69,
     "metadata": {},
     "output_type": "execute_result"
    }
   ],
   "source": [
    "# для фиксации рандомного значения\n",
    "random.seed(9)\n",
    "random.randint(0,10)"
   ]
  },
  {
   "cell_type": "code",
   "execution_count": 74,
   "id": "628818e2",
   "metadata": {},
   "outputs": [
    {
     "data": {
      "text/plain": [
       "0.33832551168488023"
      ]
     },
     "execution_count": 74,
     "metadata": {},
     "output_type": "execute_result"
    }
   ],
   "source": [
    "# случайное значение из нормального распределения\n",
    "random.random()"
   ]
  },
  {
   "cell_type": "code",
   "execution_count": 77,
   "id": "0f6c9bdc",
   "metadata": {},
   "outputs": [
    {
     "data": {
      "text/plain": [
       "3.3402400876783176"
      ]
     },
     "execution_count": 77,
     "metadata": {},
     "output_type": "execute_result"
    }
   ],
   "source": [
    "# случайное значение из равномерного распределения\n",
    "random.uniform(0,10)"
   ]
  },
  {
   "cell_type": "code",
   "execution_count": 79,
   "id": "bf99f9e8",
   "metadata": {},
   "outputs": [
    {
     "data": {
      "text/plain": [
       "['green', 'black', 'yellow', 'magenta']"
      ]
     },
     "execution_count": 79,
     "metadata": {},
     "output_type": "execute_result"
    }
   ],
   "source": [
    "# вернуть несколько случайных элементов из списка\n",
    "a = ['black', 'red', 'white', 'yellow', 'green', 'magenta']\n",
    "random.sample(a,4)"
   ]
  },
  {
   "cell_type": "code",
   "execution_count": 88,
   "id": "bdd77fa0",
   "metadata": {},
   "outputs": [
    {
     "data": {
      "text/plain": [
       "['yellow', 'white', 'red', 'black', 'green', 'magenta']"
      ]
     },
     "execution_count": 88,
     "metadata": {},
     "output_type": "execute_result"
    }
   ],
   "source": [
    "# перемешивание списка случайным образом\n",
    "random.shuffle(a)\n",
    "a"
   ]
  },
  {
   "cell_type": "code",
   "execution_count": 83,
   "id": "8fc7565c",
   "metadata": {},
   "outputs": [
    {
     "data": {
      "text/plain": [
       "'red'"
      ]
     },
     "execution_count": 83,
     "metadata": {},
     "output_type": "execute_result"
    }
   ],
   "source": [
    "# один случайн элемент\n",
    "random.choice(a)"
   ]
  },
  {
   "cell_type": "markdown",
   "id": "a62e60cc",
   "metadata": {},
   "source": [
    "### Функции"
   ]
  },
  {
   "cell_type": "code",
   "execution_count": 89,
   "id": "ab4b3ee6",
   "metadata": {},
   "outputs": [],
   "source": [
    "def summ(a, b):\n",
    "    print(f'a is {a}')\n",
    "    print(f'b is {b}')\n",
    "    return(a+b)"
   ]
  },
  {
   "cell_type": "code",
   "execution_count": 90,
   "id": "bf9e7f4f",
   "metadata": {},
   "outputs": [
    {
     "name": "stdout",
     "output_type": "stream",
     "text": [
      "a is 5\n",
      "b is 0\n"
     ]
    },
    {
     "data": {
      "text/plain": [
       "5"
      ]
     },
     "execution_count": 90,
     "metadata": {},
     "output_type": "execute_result"
    }
   ],
   "source": [
    "summ(5,0)"
   ]
  },
  {
   "cell_type": "code",
   "execution_count": 92,
   "id": "01fe9fa4",
   "metadata": {},
   "outputs": [
    {
     "name": "stdout",
     "output_type": "stream",
     "text": [
      "a is 4\n",
      "b is 100\n"
     ]
    },
    {
     "data": {
      "text/plain": [
       "104"
      ]
     },
     "execution_count": 92,
     "metadata": {},
     "output_type": "execute_result"
    }
   ],
   "source": [
    "summ(b=100, a=4)"
   ]
  },
  {
   "cell_type": "code",
   "execution_count": 94,
   "id": "37968823",
   "metadata": {},
   "outputs": [],
   "source": [
    "def say_hi(greeting='Hello', name = 'World'):\n",
    "    return f'{greeting}, {name}'"
   ]
  },
  {
   "cell_type": "code",
   "execution_count": 95,
   "id": "59c9878b",
   "metadata": {},
   "outputs": [
    {
     "data": {
      "text/plain": [
       "'Hello, World'"
      ]
     },
     "execution_count": 95,
     "metadata": {},
     "output_type": "execute_result"
    }
   ],
   "source": [
    "say_hi()"
   ]
  },
  {
   "cell_type": "code",
   "execution_count": 97,
   "id": "44507985",
   "metadata": {},
   "outputs": [
    {
     "data": {
      "text/plain": [
       "'hi, baby'"
      ]
     },
     "execution_count": 97,
     "metadata": {},
     "output_type": "execute_result"
    }
   ],
   "source": [
    "say_hi('hi','baby')"
   ]
  },
  {
   "cell_type": "code",
   "execution_count": 99,
   "id": "ba333a5b",
   "metadata": {},
   "outputs": [],
   "source": [
    "def say_hi(name, greeting='Hello'):\n",
    "    return f'{greeting}, {name}'\n",
    "# обязательный аргумент должен быть в начале, на второй позиции выдает ошибку"
   ]
  },
  {
   "cell_type": "code",
   "execution_count": 102,
   "id": "dba0cac1",
   "metadata": {},
   "outputs": [
    {
     "data": {
      "text/plain": [
       "'Hello, kitty'"
      ]
     },
     "execution_count": 102,
     "metadata": {},
     "output_type": "execute_result"
    }
   ],
   "source": [
    "say_hi('kitty')"
   ]
  },
  {
   "cell_type": "code",
   "execution_count": 105,
   "id": "28321100",
   "metadata": {},
   "outputs": [
    {
     "data": {
      "text/plain": [
       "'hell, goat'"
      ]
     },
     "execution_count": 105,
     "metadata": {},
     "output_type": "execute_result"
    }
   ],
   "source": [
    "say_hi(name='goat', greeting='hell')"
   ]
  },
  {
   "cell_type": "markdown",
   "id": "4f794975",
   "metadata": {},
   "source": [
    "### Аргументы *args"
   ]
  },
  {
   "cell_type": "code",
   "execution_count": 111,
   "id": "fc8571d8",
   "metadata": {},
   "outputs": [
    {
     "name": "stdout",
     "output_type": "stream",
     "text": [
      "(8, 99, 2, 66, 0, 2, 7)\n",
      "<class 'tuple'>\n"
     ]
    },
    {
     "data": {
      "text/plain": [
       "184"
      ]
     },
     "execution_count": 111,
     "metadata": {},
     "output_type": "execute_result"
    }
   ],
   "source": [
    "def calc_sum(*args):\n",
    "    print(args)\n",
    "    print(type(args))\n",
    "    return sum(args)\n",
    "calc_sum(8,99,2,66, 0,2,7)\n",
    "# позволяет использовать функцию для любого кол-ва аргументов!"
   ]
  },
  {
   "cell_type": "code",
   "execution_count": 121,
   "id": "a02dd780",
   "metadata": {},
   "outputs": [],
   "source": [
    "def printer(*args):\n",
    "    print(args)\n",
    "    print(type(args))\n",
    "    print()\n",
    "    for i in args:\n",
    "        print(i)"
   ]
  },
  {
   "cell_type": "code",
   "execution_count": 122,
   "id": "8d4be968",
   "metadata": {},
   "outputs": [
    {
     "name": "stdout",
     "output_type": "stream",
     "text": [
      "(1, 'text', {'key': 'value'})\n",
      "<class 'tuple'>\n",
      "\n",
      "1\n",
      "text\n",
      "{'key': 'value'}\n"
     ]
    }
   ],
   "source": [
    "printer(1, 'text', {'key': 'value'})"
   ]
  },
  {
   "cell_type": "code",
   "execution_count": 124,
   "id": "4b49818d",
   "metadata": {},
   "outputs": [
    {
     "name": "stdout",
     "output_type": "stream",
     "text": [
      "(['Joe', 'Nastya', 'Vera'],)\n",
      "<class 'tuple'>\n",
      "\n",
      "['Joe', 'Nastya', 'Vera']\n"
     ]
    }
   ],
   "source": [
    "names = ['Joe', 'Nastya', 'Vera']\n",
    "printer(names)"
   ]
  },
  {
   "cell_type": "code",
   "execution_count": 126,
   "id": "d88171c2",
   "metadata": {},
   "outputs": [
    {
     "name": "stdout",
     "output_type": "stream",
     "text": [
      "('Joe', 'Nastya', 'Vera')\n",
      "<class 'tuple'>\n",
      "\n",
      "Joe\n",
      "Nastya\n",
      "Vera\n"
     ]
    }
   ],
   "source": [
    "# распаковка списка\n",
    "printer(*names)"
   ]
  },
  {
   "cell_type": "markdown",
   "id": "b5547c6b",
   "metadata": {},
   "source": [
    "### Аргументы **kwargs \n",
    "kwargs - сокращенное от \"keywords arguments\" - именнованные аргументы\n"
   ]
  },
  {
   "cell_type": "code",
   "execution_count": 134,
   "id": "e6cacad2",
   "metadata": {},
   "outputs": [],
   "source": [
    "def printer(**kwargs):\n",
    "    print(type(kwargs))\n",
    "    print()\n",
    "    for key, value in kwargs.items():\n",
    "        print(f'{key} ~ {value}')"
   ]
  },
  {
   "cell_type": "code",
   "execution_count": 136,
   "id": "ae000850",
   "metadata": {},
   "outputs": [
    {
     "name": "stdout",
     "output_type": "stream",
     "text": [
      "<class 'dict'>\n",
      "\n",
      "a ~ 10\n",
      "b ~ pop\n",
      "c ~ ['1', 'wow']\n"
     ]
    }
   ],
   "source": [
    "printer(a=10, b = 'pop',c=['1','wow'])"
   ]
  },
  {
   "cell_type": "code",
   "execution_count": 137,
   "id": "0f25a6b6",
   "metadata": {},
   "outputs": [],
   "source": [
    "def say_hello(**kwargs):\n",
    "    greeting=kwargs.get('greeting', 'hello')\n",
    "    name = kwargs.get('name', 'world')\n",
    "    return f'{greeting}, {name}'"
   ]
  },
  {
   "cell_type": "code",
   "execution_count": 138,
   "id": "29b46e2c",
   "metadata": {},
   "outputs": [
    {
     "data": {
      "text/plain": [
       "'hello, world'"
      ]
     },
     "execution_count": 138,
     "metadata": {},
     "output_type": "execute_result"
    }
   ],
   "source": [
    "say_hello()"
   ]
  },
  {
   "cell_type": "code",
   "execution_count": 139,
   "id": "05a0dccd",
   "metadata": {},
   "outputs": [
    {
     "data": {
      "text/plain": [
       "'Hey, Eduard'"
      ]
     },
     "execution_count": 139,
     "metadata": {},
     "output_type": "execute_result"
    }
   ],
   "source": [
    "say_hello(greeting='Hey', name = 'Eduard')"
   ]
  },
  {
   "cell_type": "code",
   "execution_count": 140,
   "id": "0007acd1",
   "metadata": {},
   "outputs": [
    {
     "data": {
      "text/plain": [
       "'Hey, Eduard'"
      ]
     },
     "execution_count": 140,
     "metadata": {},
     "output_type": "execute_result"
    }
   ],
   "source": [
    "say_hello(greeting='Hey', name = 'Eduard', extra = 555)"
   ]
  },
  {
   "cell_type": "code",
   "execution_count": 142,
   "id": "92a95363",
   "metadata": {},
   "outputs": [
    {
     "data": {
      "text/plain": [
       "'Hey, John'"
      ]
     },
     "execution_count": 142,
     "metadata": {},
     "output_type": "execute_result"
    }
   ],
   "source": [
    "data = {'greeting': 'Hey',\n",
    "       'name': 'John',\n",
    "       'extra': 5}\n",
    "say_hello(**data)\n",
    "# распаковка словарей"
   ]
  },
  {
   "cell_type": "markdown",
   "id": "0b05bb98",
   "metadata": {},
   "source": [
    "### Аннотирование типов - только для понимания, пайтон не обрабатывает"
   ]
  },
  {
   "cell_type": "code",
   "execution_count": 143,
   "id": "15b4c4cd",
   "metadata": {},
   "outputs": [],
   "source": [
    "def calc_sum(a: int, b: int) -> int:\n",
    "    return a + b"
   ]
  },
  {
   "cell_type": "code",
   "execution_count": 144,
   "id": "43b27cc7",
   "metadata": {},
   "outputs": [
    {
     "data": {
      "text/plain": [
       "3"
      ]
     },
     "execution_count": 144,
     "metadata": {},
     "output_type": "execute_result"
    }
   ],
   "source": [
    "calc_sum(1,2)"
   ]
  },
  {
   "cell_type": "code",
   "execution_count": 145,
   "id": "0fed7724",
   "metadata": {},
   "outputs": [
    {
     "data": {
      "text/plain": [
       "4.2"
      ]
     },
     "execution_count": 145,
     "metadata": {},
     "output_type": "execute_result"
    }
   ],
   "source": [
    "calc_sum(1.8,2.4)"
   ]
  },
  {
   "cell_type": "code",
   "execution_count": 147,
   "id": "94fb91fb",
   "metadata": {},
   "outputs": [
    {
     "data": {
      "text/plain": [
       "'asuhv'"
      ]
     },
     "execution_count": 147,
     "metadata": {},
     "output_type": "execute_result"
    }
   ],
   "source": [
    "calc_sum('as','uhv')"
   ]
  },
  {
   "cell_type": "code",
   "execution_count": 148,
   "id": "d17f2c37",
   "metadata": {},
   "outputs": [
    {
     "data": {
      "text/plain": [
       "[1.8, 2.4, 5.8, 4.4]"
      ]
     },
     "execution_count": 148,
     "metadata": {},
     "output_type": "execute_result"
    }
   ],
   "source": [
    "calc_sum([1.8,2.4],[5.8,4.4])"
   ]
  },
  {
   "cell_type": "markdown",
   "id": "19ae5779",
   "metadata": {},
   "source": [
    "### Генераторы"
   ]
  },
  {
   "cell_type": "code",
   "execution_count": 156,
   "id": "61cf7d0c",
   "metadata": {},
   "outputs": [],
   "source": [
    "def my_range(start, end):\n",
    "    current = start\n",
    "    while current < end:\n",
    "        yield current\n",
    "        current+=1\n",
    "        "
   ]
  },
  {
   "cell_type": "code",
   "execution_count": 157,
   "id": "71cb1ef7",
   "metadata": {},
   "outputs": [
    {
     "data": {
      "text/plain": [
       "0"
      ]
     },
     "execution_count": 157,
     "metadata": {},
     "output_type": "execute_result"
    }
   ],
   "source": [
    "ranger = my_range(0,2)\n",
    "next(ranger)"
   ]
  },
  {
   "cell_type": "code",
   "execution_count": 158,
   "id": "e2a5a7a1",
   "metadata": {},
   "outputs": [
    {
     "data": {
      "text/plain": [
       "1"
      ]
     },
     "execution_count": 158,
     "metadata": {},
     "output_type": "execute_result"
    }
   ],
   "source": [
    "next(ranger)"
   ]
  },
  {
   "cell_type": "code",
   "execution_count": 161,
   "id": "0edef69f",
   "metadata": {},
   "outputs": [
    {
     "name": "stdout",
     "output_type": "stream",
     "text": [
      "2\n",
      "3\n",
      "4\n"
     ]
    }
   ],
   "source": [
    "my_=my_range(2,5)\n",
    "for i in my_:\n",
    "    print(i)"
   ]
  },
  {
   "cell_type": "markdown",
   "id": "e539a647",
   "metadata": {},
   "source": [
    "### List comprehtnsions"
   ]
  },
  {
   "cell_type": "code",
   "execution_count": 168,
   "id": "2928a90a",
   "metadata": {},
   "outputs": [
    {
     "data": {
      "text/plain": [
       "[0, 1, 4, 9, 16]"
      ]
     },
     "execution_count": 168,
     "metadata": {},
     "output_type": "execute_result"
    }
   ],
   "source": [
    "squares = []\n",
    "for i in range(5):\n",
    "    squares.append(i*i)\n",
    "squares"
   ]
  },
  {
   "cell_type": "code",
   "execution_count": 167,
   "id": "48d2e8a5",
   "metadata": {},
   "outputs": [
    {
     "data": {
      "text/plain": [
       "[0, 1, 4, 9, 16]"
      ]
     },
     "execution_count": 167,
     "metadata": {},
     "output_type": "execute_result"
    }
   ],
   "source": [
    "squares2 = [i*i for i in range(5)]\n",
    "squares2"
   ]
  },
  {
   "cell_type": "code",
   "execution_count": 170,
   "id": "2c0ca74f",
   "metadata": {},
   "outputs": [
    {
     "data": {
      "text/plain": [
       "[0, 2, 4, 6, 8]"
      ]
     },
     "execution_count": 170,
     "metadata": {},
     "output_type": "execute_result"
    }
   ],
   "source": [
    "even_nums = [i for i in range(10) if i%2 ==0]\n",
    "even_nums"
   ]
  },
  {
   "cell_type": "code",
   "execution_count": 173,
   "id": "b045571a",
   "metadata": {},
   "outputs": [
    {
     "data": {
      "text/plain": [
       "[125, 0, 103, 38, 0, 116]"
      ]
     },
     "execution_count": 173,
     "metadata": {},
     "output_type": "execute_result"
    }
   ],
   "source": [
    "orig_prices = [125, -9, 103, 38, -5, 116]\n",
    "prices = [i if i > 0 else 0 for i in orig_prices]\n",
    "prices"
   ]
  },
  {
   "cell_type": "code",
   "execution_count": 176,
   "id": "133396db",
   "metadata": {},
   "outputs": [
    {
     "data": {
      "text/plain": [
       "[125, 103, 38, 116]"
      ]
     },
     "execution_count": 176,
     "metadata": {},
     "output_type": "execute_result"
    }
   ],
   "source": [
    "prices2 = [i for i in orig_prices if i > 0 ]\n",
    "prices2"
   ]
  },
  {
   "cell_type": "markdown",
   "id": "e3fdf4a7",
   "metadata": {},
   "source": [
    "### Set comprehtnsions\n",
    "- сжатая конструкция кода для множества"
   ]
  },
  {
   "cell_type": "code",
   "execution_count": 177,
   "id": "a67409d8",
   "metadata": {},
   "outputs": [
    {
     "data": {
      "text/plain": [
       "{'black', 'green', 'red', 'white'}"
      ]
     },
     "execution_count": 177,
     "metadata": {},
     "output_type": "execute_result"
    }
   ],
   "source": [
    "numbers = ['black','red','green', 'green', 'red', 'white']\n",
    "{i for i in numbers}"
   ]
  },
  {
   "cell_type": "markdown",
   "id": "64b43d97",
   "metadata": {},
   "source": [
    "### Dict comprehtnsions"
   ]
  },
  {
   "cell_type": "code",
   "execution_count": 179,
   "id": "a46ec460",
   "metadata": {},
   "outputs": [
    {
     "data": {
      "text/plain": [
       "{0: 0, 1: 1, 2: 4, 3: 9, 4: 16}"
      ]
     },
     "execution_count": 179,
     "metadata": {},
     "output_type": "execute_result"
    }
   ],
   "source": [
    "square_dict = {i:i*i for i in range(5)}\n",
    "square_dict"
   ]
  },
  {
   "cell_type": "markdown",
   "id": "71391757",
   "metadata": {},
   "source": [
    "### Сравнение скорости работы"
   ]
  },
  {
   "cell_type": "code",
   "execution_count": 180,
   "id": "01da95e6",
   "metadata": {},
   "outputs": [
    {
     "name": "stdout",
     "output_type": "stream",
     "text": [
      "CPU times: user 7.56 s, sys: 345 ms, total: 7.9 s\n",
      "Wall time: 7.97 s\n"
     ]
    }
   ],
   "source": [
    "%%time\n",
    "even_nums = []\n",
    "for i in range(100_000_000):\n",
    "    if i%2 ==0:\n",
    "        even_nums.append(i)"
   ]
  },
  {
   "cell_type": "code",
   "execution_count": 181,
   "id": "16e0000c",
   "metadata": {},
   "outputs": [
    {
     "name": "stdout",
     "output_type": "stream",
     "text": [
      "CPU times: user 4.92 s, sys: 852 ms, total: 5.77 s\n",
      "Wall time: 6.1 s\n"
     ]
    }
   ],
   "source": [
    "%%time\n",
    "even_nums =[i for i in range(100_000_000) if i%2 == 0]"
   ]
  }
 ],
 "metadata": {
  "kernelspec": {
   "display_name": "Python 3 (ipykernel)",
   "language": "python",
   "name": "python3"
  },
  "language_info": {
   "codemirror_mode": {
    "name": "ipython",
    "version": 3
   },
   "file_extension": ".py",
   "mimetype": "text/x-python",
   "name": "python",
   "nbconvert_exporter": "python",
   "pygments_lexer": "ipython3",
   "version": "3.9.13"
  }
 },
 "nbformat": 4,
 "nbformat_minor": 5
}
